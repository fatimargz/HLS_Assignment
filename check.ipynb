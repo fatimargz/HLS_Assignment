{
 "cells": [
  {
   "cell_type": "code",
   "execution_count": 1,
   "id": "b1e679cf-9f81-4853-b2ec-e8cd72cca6e3",
   "metadata": {},
   "outputs": [],
   "source": [
    "import numpy as np\n",
    "import pandas as pd"
   ]
  },
  {
   "cell_type": "code",
   "execution_count": 2,
   "id": "b5e9f9e4-15f8-4e43-93f8-d41e3b30a183",
   "metadata": {},
   "outputs": [
    {
     "data": {
      "text/html": [
       "<div>\n",
       "<style scoped>\n",
       "    .dataframe tbody tr th:only-of-type {\n",
       "        vertical-align: middle;\n",
       "    }\n",
       "\n",
       "    .dataframe tbody tr th {\n",
       "        vertical-align: top;\n",
       "    }\n",
       "\n",
       "    .dataframe thead th {\n",
       "        text-align: right;\n",
       "    }\n",
       "</style>\n",
       "<table border=\"1\" class=\"dataframe\">\n",
       "  <thead>\n",
       "    <tr style=\"text-align: right;\">\n",
       "      <th></th>\n",
       "      <th>x</th>\n",
       "      <th>y</th>\n",
       "      <th>y err</th>\n",
       "      <th>last</th>\n",
       "    </tr>\n",
       "  </thead>\n",
       "  <tbody>\n",
       "    <tr>\n",
       "      <th>0</th>\n",
       "      <td>84</td>\n",
       "      <td>-8</td>\n",
       "      <td>8</td>\n",
       "      <td>0</td>\n",
       "    </tr>\n",
       "    <tr>\n",
       "      <th>1</th>\n",
       "      <td>11</td>\n",
       "      <td>38</td>\n",
       "      <td>4</td>\n",
       "      <td>0</td>\n",
       "    </tr>\n",
       "    <tr>\n",
       "      <th>2</th>\n",
       "      <td>37</td>\n",
       "      <td>19</td>\n",
       "      <td>4</td>\n",
       "      <td>0</td>\n",
       "    </tr>\n",
       "    <tr>\n",
       "      <th>3</th>\n",
       "      <td>13</td>\n",
       "      <td>33</td>\n",
       "      <td>6</td>\n",
       "      <td>0</td>\n",
       "    </tr>\n",
       "    <tr>\n",
       "      <th>4</th>\n",
       "      <td>40</td>\n",
       "      <td>28</td>\n",
       "      <td>7</td>\n",
       "      <td>0</td>\n",
       "    </tr>\n",
       "  </tbody>\n",
       "</table>\n",
       "</div>"
      ],
      "text/plain": [
       "    x   y  y err  last\n",
       "0  84  -8      8     0\n",
       "1  11  38      4     0\n",
       "2  37  19      4     0\n",
       "3  13  33      6     0\n",
       "4  40  28      7     0"
      ]
     },
     "execution_count": 2,
     "metadata": {},
     "output_type": "execute_result"
    }
   ],
   "source": [
    "data = pd.read_csv(\"data.txt\",sep=\",\",header = None, names = [\"x\",\"y\",\"y err\",\"last\"])\n",
    "data.head()"
   ]
  },
  {
   "cell_type": "code",
   "execution_count": 23,
   "id": "dd9ce179-ad55-41e6-8243-c6c54f685c1d",
   "metadata": {},
   "outputs": [],
   "source": [
    "def lin_fit_err(x,y,err):\n",
    "    # new set of equations\n",
    "    sx = sum(x/err**2)\n",
    "    sy = sum(y/err**2)\n",
    "    sx2 = sum(x**2)\n",
    "    s = sum(1/err**2)\n",
    "    ti = (1/err)*(x - sx/s) # should be an array\n",
    "    stt = sum(ti**2)\n",
    "    sty = sum(ti*y/err)\n",
    "\n",
    "    print(\"sx: %f, sy: %f, s: %f, st: %f, sty: %f\"%(sx,sy,s,stt,sty))\n",
    "    # calculate parameters\n",
    "    b = (1/stt)*sum(ti*y/err)\n",
    "    a = (sy - sx*b)/s\n",
    "    sig_a = np.sqrt((1/s) * (1 + ((sx**2)/(s*stt))))\n",
    "    sig_b = np.sqrt(1/stt)\n",
    "\n",
    "    ch2 = (1/(len(x)-2)) * sum(((y-a-b*x)/err)**2)\n",
    "    return a,sig_a,b,sig_b, ch2\n"
   ]
  },
  {
   "cell_type": "code",
   "execution_count": 24,
   "id": "ef0adc31-5b4a-4bd8-86ec-bac8a9d232f0",
   "metadata": {},
   "outputs": [
    {
     "name": "stdout",
     "output_type": "stream",
     "text": [
      "sx: 990.330083, sy: 260.282910, s: 18.950656, st: 19130.780666, sty: -9679.988965\n",
      "for event  0  : a = 40.176990 +/- 0.442176, b = -0.505990 +/- 0.007230, and chi2 = 1.429742\n",
      "100\n",
      "sx: 950.785331, sy: -846.607218, s: 19.407040, st: 12913.203160, sty: -42869.913625\n",
      "for event  1  : a = 119.021687 +/- 0.487236, b = -3.319851 +/- 0.008800, and chi2 = 21.426859\n",
      "94\n",
      "sx: 502.315216, sy: 1123.199393, s: 9.576459, st: 9319.323469, sty: 10357.013211\n",
      "for event  2  : a = 58.993862 +/- 0.632180, b = 1.111348 +/- 0.010359, and chi2 = 0.961636\n",
      "242\n",
      "sx: 2180.527778, sy: -2763.250000, s: 45.083333, st: 40517.468611, sty: -52234.756367\n",
      "for event  3  : a = 1.061741 +/- 0.282697, b = -1.289191 +/- 0.004968, and chi2 = 0.994762\n",
      "242\n",
      "sx: 16.365844, sy: 184.537595, s: 0.345424, st: 294.668403, sty: 3233.613805\n",
      "for event  4  : a = 14.310293 +/- 3.242369, b = 10.973738 +/- 0.058255, and chi2 = 0.948025\n",
      "242\n",
      "sx: 1348.524756, sy: 9665.298118, s: 27.937222, st: 22181.379303, sty: 155835.098398\n",
      "for event  5  : a = 6.845652 +/- 0.375282, b = 7.025492 +/- 0.006714, and chi2 = 26.925999\n",
      "442\n"
     ]
    }
   ],
   "source": [
    "x = []\n",
    "y = []\n",
    "y_err = []\n",
    "index = 0\n",
    "\n",
    "for i in range(len(data)):\n",
    "    if data.loc[i][\"last\"] == 0:\n",
    "        x += [data.loc[i][\"x\"]]\n",
    "        y += [data.loc[i][\"y\"]]\n",
    "        y_err += [data.loc[i][\"y err\"]]\n",
    "    if data.loc[i][\"last\"] == 1:\n",
    "        x += [data.loc[i][\"x\"]]\n",
    "        y += [data.loc[i][\"y\"]]\n",
    "        y_err += [data.loc[i][\"y err\"]]\n",
    "        a, a_err, b, b_err, chi2 = lin_fit_err(np.array(x),np.array(y),np.array(y_err))\n",
    "        print(\"for event \",index,\" : a = %f +/- %f, b = %f +/- %f, and chi2 = %f\"%(a,a_err,b,b_err,chi2))\n",
    "        print(len(x))\n",
    "        x = []\n",
    "        y = []\n",
    "        y_err = []\n",
    "        index += 1"
   ]
  },
  {
   "cell_type": "code",
   "execution_count": null,
   "id": "d126de8c-9a30-4c03-9601-c33592705ecb",
   "metadata": {},
   "outputs": [],
   "source": []
  }
 ],
 "metadata": {
  "kernelspec": {
   "display_name": "Python 3 (ipykernel)",
   "language": "python",
   "name": "python3"
  },
  "language_info": {
   "codemirror_mode": {
    "name": "ipython",
    "version": 3
   },
   "file_extension": ".py",
   "mimetype": "text/x-python",
   "name": "python",
   "nbconvert_exporter": "python",
   "pygments_lexer": "ipython3",
   "version": "3.11.5"
  }
 },
 "nbformat": 4,
 "nbformat_minor": 5
}
